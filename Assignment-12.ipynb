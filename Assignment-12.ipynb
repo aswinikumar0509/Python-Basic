{
 "cells": [
  {
   "cell_type": "markdown",
   "id": "81057b15",
   "metadata": {},
   "source": [
    "1.In what modes should the PdfFileReader() and PdfFileWriter() File objects will be opened?\n",
    "\n",
    "Ans->"
   ]
  },
  {
   "cell_type": "markdown",
   "id": "88485de3",
   "metadata": {},
   "source": [
    "Pdf File Reader() needs to be opened in read-binary mode by passing 'rb' as the second argunment to open().\n",
    "pdf File Writer () need to be opened in write binary mode with 'wb'."
   ]
  },
  {
   "cell_type": "markdown",
   "id": "3df0da81",
   "metadata": {},
   "source": [
    "2.From a PdfFileReader object, how do you get a Page object for page 5?\n",
    "\n",
    "Ans->"
   ]
  },
  {
   "cell_type": "markdown",
   "id": "4a5d15c2",
   "metadata": {},
   "source": [
    "To extract text from a page . we need to get a page object . which represent a single page of a pdf , from a pdfFile Reader object . We can get a page object by calling the getpage() method pn a pdfFile Reader object and passing it the page number of the page of our intrest."
   ]
  },
  {
   "cell_type": "markdown",
   "id": "bb4b4f0d",
   "metadata": {},
   "source": [
    "3.What PdfFileReader variable stores the number of pages in the PDF document?\n",
    "\n",
    "Ans->"
   ]
  },
  {
   "cell_type": "markdown",
   "id": "a7283266",
   "metadata": {},
   "source": [
    "The total number of pages in the docunment is stored in the numPages attribute of the pdfFile Reader object."
   ]
  },
  {
   "cell_type": "markdown",
   "id": "5ae2f898",
   "metadata": {},
   "source": [
    "4.If a PdfFileReader object’s PDF is encrypted with the password swordfish, what must you do\n",
    "before you can obtain Page objects from it?"
   ]
  },
  {
   "cell_type": "markdown",
   "id": "53ddbc56",
   "metadata": {},
   "source": [
    "call decrypt('swordfish')"
   ]
  },
  {
   "cell_type": "markdown",
   "id": "45d03c28",
   "metadata": {},
   "source": [
    "5. What methods do you use to rotate a page?\n",
    "\n",
    "Ans->"
   ]
  },
  {
   "cell_type": "markdown",
   "id": "ca1da000",
   "metadata": {},
   "source": [
    " \"Ctrl+Shift+R\" keys to rotate the current page to the left or right."
   ]
  },
  {
   "cell_type": "markdown",
   "id": "e5c649c7",
   "metadata": {},
   "source": [
    "6.What is the difference between a Run object and a Paragraph object?\n",
    "\n",
    "Ans->"
   ]
  },
  {
   "cell_type": "markdown",
   "id": "1fab2bee",
   "metadata": {},
   "source": [
    "The differnece between a Run object and a Paragraph object are:\n",
    "\n",
    "1. Run Object : Sequence of Run instances corresponding to the <w:r> elements in this paragraph.\n",
    "\n",
    "2. Paragraph object :Provides access to paragraph formatting such as justification, indentation, line spacing, space before and after, and widow/orphan control."
   ]
  },
  {
   "cell_type": "markdown",
   "id": "1b1c24cb",
   "metadata": {},
   "source": [
    "7.How do you obtain a list of Paragraph objects for a Document object that’s stored in a variable\n",
    "named doc?\n",
    "\n",
    "Ans->"
   ]
  },
  {
   "cell_type": "markdown",
   "id": "60fca0af",
   "metadata": {},
   "source": [
    "Return a Document object loaded from docx, where docx can be either a path to a .docx file (a string) or a file-like object. If docx is missing or None, the built-in default document “template” is loaded."
   ]
  },
  {
   "cell_type": "markdown",
   "id": "57d32da0",
   "metadata": {},
   "source": [
    "8.What type of object has bold, underline, italic, strike, and outline variables?\n",
    "\n",
    "Ans->"
   ]
  },
  {
   "cell_type": "markdown",
   "id": "9918cd4d",
   "metadata": {},
   "source": [
    "9.What is the difference between False, True, and None for the bold variable?\n",
    "\n",
    "Ans->"
   ]
  },
  {
   "cell_type": "markdown",
   "id": "ed4c64f0",
   "metadata": {},
   "source": [
    "True and False are specific bool values. Use default False when we have a bool field and we want the default to be False. Don't use False as a value for a non- bool field. None is used as a generic placeholder when the value will be set later."
   ]
  },
  {
   "cell_type": "markdown",
   "id": "b070b903",
   "metadata": {},
   "source": [
    "10.How do you create a Document object for a new Word document?\n",
    "\n",
    "Ans->"
   ]
  },
  {
   "cell_type": "markdown",
   "id": "b008c0c1",
   "metadata": {},
   "source": [
    "Insert the docunment intoa word :\n",
    "\n",
    "1. Click or tap where we want to insert the content of the existing document.\n",
    "\n",
    "2. Go to insert and select the arrow next to object.\n",
    "\n",
    "3. Select Text from File.\n",
    "\n",
    "4. Locate the file that you want and double click it.\n",
    "\n",
    "5. to add in the content of additional word docunment , repeat the above atep as needed"
   ]
  },
  {
   "cell_type": "markdown",
   "id": "3bbffb2d",
   "metadata": {},
   "source": [
    "11.How do you add a paragraph with the text &#39;Hello, there!&#39; to a Document object stored in a\n",
    "variable named doc?\n",
    "\n",
    "Ans->"
   ]
  },
  {
   "cell_type": "markdown",
   "id": "21714709",
   "metadata": {},
   "source": [
    "doc_para = doc.add_paragraph('Your paragraph goes here, ')"
   ]
  },
  {
   "cell_type": "markdown",
   "id": "2fc5c94d",
   "metadata": {},
   "source": [
    "12.What integers represent the levels of headings available in Word documents?"
   ]
  },
  {
   "cell_type": "code",
   "execution_count": null,
   "id": "f90a9202",
   "metadata": {},
   "outputs": [],
   "source": []
  }
 ],
 "metadata": {
  "kernelspec": {
   "display_name": "Python 3 (ipykernel)",
   "language": "python",
   "name": "python3"
  },
  "language_info": {
   "codemirror_mode": {
    "name": "ipython",
    "version": 3
   },
   "file_extension": ".py",
   "mimetype": "text/x-python",
   "name": "python",
   "nbconvert_exporter": "python",
   "pygments_lexer": "ipython3",
   "version": "3.9.12"
  }
 },
 "nbformat": 4,
 "nbformat_minor": 5
}
