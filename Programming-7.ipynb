{
 "cells": [
  {
   "cell_type": "markdown",
   "id": "6e564cbb",
   "metadata": {},
   "source": [
    "1.What is the name of the feature responsible for generating Regex objects?\n",
    "\n",
    "Ans->"
   ]
  },
  {
   "cell_type": "markdown",
   "id": "b229367d",
   "metadata": {},
   "source": [
    "The re.compile() function returns objects."
   ]
  },
  {
   "cell_type": "markdown",
   "id": "6f9fff69",
   "metadata": {},
   "source": [
    "2.Why do raw strings often appear in Regex objects?\n",
    "\n",
    "Ans->"
   ]
  },
  {
   "cell_type": "markdown",
   "id": "83520cd9",
   "metadata": {},
   "source": [
    "The raw string is slightly different from a regular string , it won't interpet the \\ character as an escape character .\n",
    "\n",
    "This is because the rgular expression engine uses \\ character for its own escaping purpose."
   ]
  },
  {
   "cell_type": "markdown",
   "id": "cce1409d",
   "metadata": {},
   "source": [
    "3.What is the return value of the search() method?\n",
    "\n",
    "Ans->"
   ]
  },
  {
   "cell_type": "markdown",
   "id": "af6f4174",
   "metadata": {},
   "source": [
    "The re.search() and re.match both are function of re module in python.\n",
    "These function are very efficient and fast for searching in strings.\n",
    "The function searches for some substring in a string and returns a match object if ,found , else it return none.\n"
   ]
  },
  {
   "cell_type": "markdown",
   "id": "d9a43c11",
   "metadata": {},
   "source": [
    "4.From a Match item, how do you get the actual strings that match the pattern?\n",
    "\n",
    "Ans->"
   ]
  },
  {
   "cell_type": "markdown",
   "id": "cb5b7f9b",
   "metadata": {},
   "source": [
    "Regular expression called regexes for shorts are description for a pattern of text.\n",
    "\n",
    "a\\d in a regex stands for a digit character that is , ant single numeral 0 to 9."
   ]
  },
  {
   "cell_type": "markdown",
   "id": "c19ee11c",
   "metadata": {},
   "source": [
    "5.In the regex which created from the r&#39;(\\d\\d\\d)-(\\d\\d\\d-\\d\\d\\d\\d)&#39;, what does group zero cover?\n",
    "Group 2? Group 1?"
   ]
  },
  {
   "cell_type": "code",
   "execution_count": 1,
   "id": "6bfc1ba6",
   "metadata": {},
   "outputs": [
    {
     "data": {
      "text/plain": [
       "re.compile(r'\\d\\d\\d-\\d\\d\\d-\\d\\d\\d\\d', re.UNICODE)"
      ]
     },
     "execution_count": 1,
     "metadata": {},
     "output_type": "execute_result"
    }
   ],
   "source": [
    "import re\n",
    "phonenumregex = re.compile(r'\\d\\d\\d-\\d\\d\\d-\\d\\d\\d\\d')\n",
    "phonenumregex"
   ]
  },
  {
   "cell_type": "markdown",
   "id": "ebc6f1d9",
   "metadata": {},
   "source": [
    "6.In standard expression syntax, parentheses and intervals have distinct meanings. How can you tell\n",
    "a regex that you want it to fit real parentheses and periods?\n",
    "\n",
    "Ans->"
   ]
  },
  {
   "cell_type": "code",
   "execution_count": null,
   "id": "722586e7",
   "metadata": {},
   "outputs": [],
   "source": []
  },
  {
   "cell_type": "markdown",
   "id": "29976c3f",
   "metadata": {},
   "source": [
    "7.The findall() method returns a string list or a list of string tuples. What causes it to return one of\n",
    "the two options?\n",
    "\n",
    "Ans->"
   ]
  },
  {
   "cell_type": "markdown",
   "id": "d24bb584",
   "metadata": {},
   "source": [
    "If the regex has no groups , alist of strings is returned. If the regex has groups , a list of tuples of string is returned."
   ]
  },
  {
   "cell_type": "markdown",
   "id": "3d481617",
   "metadata": {},
   "source": [
    "8.In standard expressions, what does the | character mean?\n",
    "\n",
    "Ans->"
   ]
  },
  {
   "cell_type": "markdown",
   "id": "4a150f9b",
   "metadata": {},
   "source": [
    "Verticle window icon | this may match the string that exist 1 in 2 character defined before ad after it.\n",
    "\n",
    "EX :\n",
    "\n",
    "a|b does not match because a , b does not apper ade match because the condition is satisfied\n",
    "\n",
    "here , a|b matchs any string containing a or b"
   ]
  },
  {
   "cell_type": "markdown",
   "id": "c0919fad",
   "metadata": {},
   "source": [
    "9.In regular expressions, what does the character stand for?\n",
    "\n",
    "Ans->"
   ]
  },
  {
   "cell_type": "markdown",
   "id": "89b1fd9a",
   "metadata": {},
   "source": [
    "A regular expression is a sequence of character that define a search pattern mainly for use in patter matching in the string , or string matching .\n",
    "\n",
    "i.e \"find and replace\" like operation\n",
    "\n",
    "Each character in the regular expression is either a metacharacte , having a special meaning , or regular that have the literal meaning.\n",
    "\n",
    "\n"
   ]
  },
  {
   "cell_type": "markdown",
   "id": "b633dbd9",
   "metadata": {},
   "source": [
    "10.In regular expressions, what is the difference between the + and * characters?\n",
    "\n",
    "Ans->"
   ]
  },
  {
   "cell_type": "markdown",
   "id": "29c11a59",
   "metadata": {},
   "source": [
    "The differnce between the + and * character  are:\n",
    "\n",
    "1. \"+\" the plus symbol can match ther string with one and more characterdefined before it.\n",
    "This character can be repeated many times without any limit.\n",
    "\n",
    "2. \"*\" the asterisk symbols may match a string with or without a predefined character . This character can be repeated many time without any limit."
   ]
  },
  {
   "cell_type": "markdown",
   "id": "2b13fd05",
   "metadata": {},
   "source": [
    "11.What is the difference between {4} and {4,5} in regular expression?\n",
    "\n",
    "Ans->"
   ]
  },
  {
   "cell_type": "code",
   "execution_count": null,
   "id": "92044bc1",
   "metadata": {},
   "outputs": [],
   "source": []
  },
  {
   "cell_type": "markdown",
   "id": "4a3f8339",
   "metadata": {},
   "source": [
    "12.What do you mean by the \\d, \\w, and \\s shorthand character classes signify in regular\n",
    "expressions?\n",
    "\n",
    "Ans->"
   ]
  },
  {
   "cell_type": "markdown",
   "id": "a38a0716",
   "metadata": {},
   "source": [
    " The \\D, \\W, and \\S shorthand character classes match a single character that is not a digit, word, or space character, respectively."
   ]
  },
  {
   "cell_type": "markdown",
   "id": "3b93bdde",
   "metadata": {},
   "source": [
    "14.What is the difference between .*? and .*?"
   ]
  },
  {
   "cell_type": "code",
   "execution_count": null,
   "id": "bc7ea33d",
   "metadata": {},
   "outputs": [],
   "source": []
  },
  {
   "cell_type": "markdown",
   "id": "642b1e7e",
   "metadata": {},
   "source": [
    "15.What is the syntax for matching both numbers and lowercase letters with a character class?\n",
    "\n",
    "Ans->"
   ]
  },
  {
   "cell_type": "markdown",
   "id": "24b68fdd",
   "metadata": {},
   "source": [
    "The character class [a-zA-Z0-9] will match all lowercase letters, uppercase letters, and numbers."
   ]
  },
  {
   "cell_type": "markdown",
   "id": "aca112fa",
   "metadata": {},
   "source": [
    "16.What is the procedure for making a normal expression in regax case insensitive?\n",
    "\n",
    "Ans->"
   ]
  },
  {
   "cell_type": "markdown",
   "id": "0e6b2c8c",
   "metadata": {},
   "source": [
    "Regular Expression, we can make the Python Regular Expression case-insensitive. There are two ways to make Regular Expression case-insensitive: Using CASE_INSENSITIVE flag"
   ]
  },
  {
   "cell_type": "markdown",
   "id": "c3cc0b71",
   "metadata": {},
   "source": [
    "17.What does the . character normally match? What does it match if re.DOTALL is passed as 2nd argument in re.compile()?\n",
    "\n",
    "Ans->"
   ]
  },
  {
   "cell_type": "markdown",
   "id": "1fadb4e4",
   "metadata": {},
   "source": [
    "Character normally matches any character except the new line character. If re. DOTALL is passed as the second argument to re. compile(), then the dot will also match new line character."
   ]
  },
  {
   "cell_type": "markdown",
   "id": "dcacb688",
   "metadata": {},
   "source": [
    "18.If numReg = re.compile(r&#39;\\d+&#39;), what will numRegex.sub(&#39;X&#39;, &#39;11 drummers, 10 pipers, five rings, 4\n",
    "hen&#39;) return?"
   ]
  },
  {
   "cell_type": "code",
   "execution_count": 2,
   "id": "d1c4e1f4",
   "metadata": {},
   "outputs": [
    {
     "data": {
      "text/plain": [
       "re.compile(r'\\d+', re.UNICODE)"
      ]
     },
     "execution_count": 2,
     "metadata": {},
     "output_type": "execute_result"
    }
   ],
   "source": [
    "import re\n",
    "numReg = re.compile(r'\\d+')\n",
    "numReg"
   ]
  },
  {
   "cell_type": "markdown",
   "id": "9506fe30",
   "metadata": {},
   "source": [
    "19.What does passing re.VERBOSE as the 2nd argument to re.compile() allow to do?"
   ]
  },
  {
   "cell_type": "markdown",
   "id": "acfc862e",
   "metadata": {},
   "source": [
    "VERBOSE as the second argument to re. compile() allow you to do The re. VERBOSE argument allows us to add whitespace and comments to the string passed to re."
   ]
  },
  {
   "cell_type": "code",
   "execution_count": null,
   "id": "45940bec",
   "metadata": {},
   "outputs": [],
   "source": []
  }
 ],
 "metadata": {
  "kernelspec": {
   "display_name": "Python 3 (ipykernel)",
   "language": "python",
   "name": "python3"
  },
  "language_info": {
   "codemirror_mode": {
    "name": "ipython",
    "version": 3
   },
   "file_extension": ".py",
   "mimetype": "text/x-python",
   "name": "python",
   "nbconvert_exporter": "python",
   "pygments_lexer": "ipython3",
   "version": "3.9.12"
  }
 },
 "nbformat": 4,
 "nbformat_minor": 5
}
