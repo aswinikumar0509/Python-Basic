{
 "cells": [
  {
   "cell_type": "markdown",
   "id": "ab466244",
   "metadata": {},
   "source": [
    "1. Why are functions advantageous to have in your programs?"
   ]
  },
  {
   "cell_type": "markdown",
   "id": "061196d3",
   "metadata": {},
   "source": [
    "Ans->\n",
    "Function is a piece of code or any logic that performs the specific operation.\n",
    "print(),factorial(),round() etc are some built-in function python programming language.\n",
    "The function help to provide the large program into small group so that we can read the code , and debugs the program faster and better."
   ]
  },
  {
   "cell_type": "markdown",
   "id": "100a36a5",
   "metadata": {},
   "source": [
    "2. When does the code in a function run: when it&#39;s specified or when it&#39;s called?"
   ]
  },
  {
   "cell_type": "markdown",
   "id": "5c884d0b",
   "metadata": {},
   "source": [
    "Ans->\n",
    "The code in the function run when call the first line of the code , in the function is a set of code that perform a specific task just by calling it.\n",
    "The code in the function are specified when it define and the code of the is execute when it is called.\n",
    "\n"
   ]
  },
  {
   "cell_type": "markdown",
   "id": "a1ca690c",
   "metadata": {},
   "source": [
    "3. What statement creates a function?"
   ]
  },
  {
   "cell_type": "markdown",
   "id": "f07d75fc",
   "metadata": {},
   "source": [
    "Ans->\n",
    "While creating the function it first have to declare the name of the function and we follow the function defination.\n",
    "We could put any code inside that function one statement , multiple statement depend on what we want to do."
   ]
  },
  {
   "cell_type": "markdown",
   "id": "9d4a5f46",
   "metadata": {},
   "source": [
    "4. What is the difference between a function and a function call?"
   ]
  },
  {
   "cell_type": "markdown",
   "id": "4d9f5d1f",
   "metadata": {},
   "source": [
    "Ans->\n",
    "A function is a block of code that does a particular operation and returns a result. It usually accepts inputs as parameters and returns a result.  A function call is the code used to pass control to a function."
   ]
  },
  {
   "cell_type": "markdown",
   "id": "6292b54c",
   "metadata": {},
   "source": [
    "5. How many global scopes are there in a Python program? How many local scopes?"
   ]
  },
  {
   "cell_type": "markdown",
   "id": "e31742de",
   "metadata": {},
   "source": [
    "Ans->\n",
    "1.Global Scope : \n",
    "\n",
    "The global scope of the is that when the program will execute their scope remain in the existence until the program terminates and all its name are forgotten.\n",
    "The time when we run the program the names would remember their value from the previous run.\n",
    "ex:\n",
    "x = 300\n",
    "\n",
    "def myfunc():\n",
    "\n",
    "  print(x)\n",
    "\n",
    "myfunc()\n",
    "\n",
    "print(x)\n",
    "\n",
    "2. Local scope :\n",
    "\n",
    "The variable is create inside the function belongs to the local scope of that function , and can only be used inside that function.\n",
    "Ex:\n",
    "\n",
    "def myfun():\n",
    "\n",
    "x = 300\n",
    "\n",
    "print(x)\n",
    "\n",
    "\n",
    "myfunc()\n"
   ]
  },
  {
   "cell_type": "markdown",
   "id": "75ce8830",
   "metadata": {},
   "source": [
    "6. What happens to variables in a local scope when the function call returns?\n",
    "\n",
    "Ans->\n"
   ]
  },
  {
   "cell_type": "markdown",
   "id": "8bd904b3",
   "metadata": {},
   "source": [
    "Accoding to this statement when we call the return in the local it we also return the value of the function which we given in the local variable."
   ]
  },
  {
   "cell_type": "code",
   "execution_count": 1,
   "id": "15a91126",
   "metadata": {},
   "outputs": [],
   "source": [
    "def myfun():\n",
    "    x = 300\n",
    "    return x"
   ]
  },
  {
   "cell_type": "code",
   "execution_count": 2,
   "id": "b780d357",
   "metadata": {},
   "outputs": [
    {
     "data": {
      "text/plain": [
       "300"
      ]
     },
     "execution_count": 2,
     "metadata": {},
     "output_type": "execute_result"
    }
   ],
   "source": [
    "myfun()"
   ]
  },
  {
   "cell_type": "markdown",
   "id": "fd4ee50e",
   "metadata": {},
   "source": [
    "7. What is the concept of a return value? Is it possible to have a return value in an expression?\n",
    "\n",
    "Ans->"
   ]
  },
  {
   "cell_type": "markdown",
   "id": "e1db4a6a",
   "metadata": {},
   "source": [
    "The concept of the return value is to give the value of the variable while the is function call.\n",
    "\n",
    "It is possible to have the return value in an expression while we can use the math expression or any oyher kind of the expression in whic the value has a logical or chorent meaning.\n"
   ]
  },
  {
   "cell_type": "markdown",
   "id": "1ff987af",
   "metadata": {},
   "source": [
    "8. If a function does not have a return statement, what is the return value of a call to that function?\n",
    "\n",
    "Ans->"
   ]
  },
  {
   "cell_type": "markdown",
   "id": "d4cddf8d",
   "metadata": {},
   "source": [
    "If the function does not have the return statement the one approch we can use in both the local and the global case is using of the print statement\n",
    "\n",
    " Or\n",
    " \n",
    " No return statement appers in a function control automatically return to the calling function after the last statement of the function is executed.\n",
    " In this case return value of the function is undefined."
   ]
  },
  {
   "cell_type": "markdown",
   "id": "33ba2753",
   "metadata": {},
   "source": [
    "9. How do you make a function variable refer to the global variable?\n",
    "\n",
    "Ans->"
   ]
  },
  {
   "cell_type": "markdown",
   "id": "f900a9a1",
   "metadata": {},
   "source": [
    "If a variable is assigned a value anywhere within the function body .it assumed to be a local unless explicitly declared as global.\n",
    "\n",
    "variable that are only refered inside a function are implicitly global.\n",
    "\n",
    "We use a global keyword to use a global ariable inside a function\n",
    "\n"
   ]
  },
  {
   "cell_type": "code",
   "execution_count": 4,
   "id": "1809be0b",
   "metadata": {},
   "outputs": [
    {
     "data": {
      "text/plain": [
       "8"
      ]
     },
     "execution_count": 4,
     "metadata": {},
     "output_type": "execute_result"
    }
   ],
   "source": [
    "a =3\n",
    "b= 5\n",
    "\n",
    "def fun():\n",
    "    c = a+b\n",
    "    return c\n",
    "\n",
    "fun()"
   ]
  },
  {
   "cell_type": "markdown",
   "id": "6d3c247b",
   "metadata": {},
   "source": [
    "10. What is the data type of None?\n",
    "\n",
    "Ans->"
   ]
  },
  {
   "cell_type": "markdown",
   "id": "26670680",
   "metadata": {},
   "source": [
    "The None keyword is used to define a null value, or no value at all.\n",
    "None is not the same as 0 , False , or an empty string.\n",
    "None is a data type of its own (NoneType) and only None can be None"
   ]
  },
  {
   "cell_type": "markdown",
   "id": "333c5352",
   "metadata": {},
   "source": [
    "11. What does the sentence import areallyourpetsnamederic do?\n",
    "\n",
    "Ans->"
   ]
  },
  {
   "cell_type": "markdown",
   "id": "8902e6a9",
   "metadata": {},
   "source": [
    "That import statement imports a module named areallyourpetsnamederic.\n",
    "(This isn't a real Python module, by the way.)"
   ]
  },
  {
   "cell_type": "markdown",
   "id": "5fd30454",
   "metadata": {},
   "source": [
    "12. If you had a bacon() feature in a spam module, what would you call it after importing spam?\n",
    "\n",
    "Ans->"
   ]
  },
  {
   "cell_type": "markdown",
   "id": "dd763745",
   "metadata": {},
   "source": [
    "We just  called with spam. bacon()."
   ]
  },
  {
   "cell_type": "markdown",
   "id": "79a498da",
   "metadata": {},
   "source": [
    "13. What can you do to save a programme from crashing if it encounters an error?\n",
    "\n",
    "Ans->"
   ]
  },
  {
   "cell_type": "markdown",
   "id": "e608a911",
   "metadata": {},
   "source": [
    "If an error occurs in a program, we don’t want the program to unexpectedly crash on the user. Instead, error handling can be used to notify the user of why the error occurred and gracefully exit the process that caused the error."
   ]
  },
  {
   "cell_type": "markdown",
   "id": "3154f58f",
   "metadata": {},
   "source": [
    "14. What is the purpose of the try clause? What is the purpose of the except clause?\n",
    "\n",
    "Ans->"
   ]
  },
  {
   "cell_type": "markdown",
   "id": "7611d446",
   "metadata": {},
   "source": [
    "The try block is used to check some code for errors \n",
    "i.e the code inside the try block will execute when there is no error in the program.\n",
    "\n",
    "Whereas the code inside the except block will execute whenever the program encounters some error in the preceding try block."
   ]
  },
  {
   "cell_type": "code",
   "execution_count": null,
   "id": "5a977584",
   "metadata": {},
   "outputs": [],
   "source": []
  }
 ],
 "metadata": {
  "kernelspec": {
   "display_name": "Python 3 (ipykernel)",
   "language": "python",
   "name": "python3"
  },
  "language_info": {
   "codemirror_mode": {
    "name": "ipython",
    "version": 3
   },
   "file_extension": ".py",
   "mimetype": "text/x-python",
   "name": "python",
   "nbconvert_exporter": "python",
   "pygments_lexer": "ipython3",
   "version": "3.9.12"
  }
 },
 "nbformat": 4,
 "nbformat_minor": 5
}
