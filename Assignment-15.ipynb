{
 "cells": [
  {
   "cell_type": "markdown",
   "id": "74eb6a5f",
   "metadata": {},
   "source": [
    "1.How many seconds are in an hour? Use the interactive interpreter as a calculator and multiply the\n",
    "number of seconds in a minute (60) by the number of minutes in an hour (also 60).\n",
    "\n",
    "Ans->"
   ]
  },
  {
   "cell_type": "markdown",
   "id": "ee6de637",
   "metadata": {},
   "source": [
    "60"
   ]
  },
  {
   "cell_type": "markdown",
   "id": "44b5f338",
   "metadata": {},
   "source": [
    "2. Assign the result from the previous task (seconds in an hour) to a variable called seconds_per_hour.\n",
    "\n",
    "Ans->"
   ]
  },
  {
   "cell_type": "markdown",
   "id": "57454802",
   "metadata": {},
   "source": [
    "second_per_hour = 3600"
   ]
  },
  {
   "cell_type": "markdown",
   "id": "f1e6ba83",
   "metadata": {},
   "source": [
    "3.How many seconds do you think there are in a day? Make use of the variables seconds per hour and minutes per hour.\n",
    "\n",
    "Ans->"
   ]
  },
  {
   "cell_type": "markdown",
   "id": "0bdafed6",
   "metadata": {},
   "source": [
    "second_per_hour = 86400\n",
    "\n",
    "minute_per_hour = 60"
   ]
  },
  {
   "cell_type": "markdown",
   "id": "a4e972e7",
   "metadata": {},
   "source": [
    "4.Calculate seconds per day again, but this time save the result in a variable called seconds_per_day\n",
    "\n",
    "Ans->"
   ]
  },
  {
   "cell_type": "markdown",
   "id": "aec797b4",
   "metadata": {},
   "source": [
    "second_per_day = 86400"
   ]
  },
  {
   "cell_type": "markdown",
   "id": "e8e7680a",
   "metadata": {},
   "source": [
    "5.Divide seconds_per_day by seconds_per_hour. Use floating-point (/) division.\n",
    "\n",
    "Ans->"
   ]
  },
  {
   "cell_type": "markdown",
   "id": "6f65b998",
   "metadata": {},
   "source": [
    "seconds_per_day / second_per_hour = 24.0"
   ]
  },
  {
   "cell_type": "markdown",
   "id": "2ec37423",
   "metadata": {},
   "source": [
    "6.Divide seconds_per_day by seconds_per_hour, using integer (//) division. Did this number agree\n",
    "with the floating-point value from the previous question, aside from the final .0?\n",
    "\n",
    "Ans->"
   ]
  },
  {
   "cell_type": "markdown",
   "id": "c6ee687a",
   "metadata": {},
   "source": [
    "seconds_per_day // second_per_hours = 24"
   ]
  },
  {
   "cell_type": "markdown",
   "id": "6c76d8f8",
   "metadata": {},
   "source": [
    "7.Write a generator, genPrimes, that returns the sequence of prime numbers on successive calls to\n",
    "its next() method: 2, 3, 5, 7, 11, ...\n",
    "\n",
    "Ans->"
   ]
  },
  {
   "cell_type": "code",
   "execution_count": null,
   "id": "1f1110bd",
   "metadata": {},
   "outputs": [],
   "source": []
  }
 ],
 "metadata": {
  "kernelspec": {
   "display_name": "Python 3 (ipykernel)",
   "language": "python",
   "name": "python3"
  },
  "language_info": {
   "codemirror_mode": {
    "name": "ipython",
    "version": 3
   },
   "file_extension": ".py",
   "mimetype": "text/x-python",
   "name": "python",
   "nbconvert_exporter": "python",
   "pygments_lexer": "ipython3",
   "version": "3.9.12"
  }
 },
 "nbformat": 4,
 "nbformat_minor": 5
}
