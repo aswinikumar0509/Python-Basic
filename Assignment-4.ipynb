{
 "cells": [
  {
   "cell_type": "markdown",
   "id": "4fd37117",
   "metadata": {},
   "source": [
    "Q1.What exactly is []?\n",
    "\n",
    "Ans->"
   ]
  },
  {
   "cell_type": "markdown",
   "id": "cedb6843",
   "metadata": {},
   "source": [
    "This show the empty list. In this [] it shows the list contains no items  ."
   ]
  },
  {
   "cell_type": "markdown",
   "id": "48d88e71",
   "metadata": {},
   "source": [
    "2. In a list of values stored in a variable called spam, how would you assign the value &#39;hello&#39; as the\n",
    "third value? (Assume [2, 4, 6, 8, 10] are in spam.)\n",
    "\n",
    "Ans->"
   ]
  },
  {
   "cell_type": "code",
   "execution_count": 2,
   "id": "b53169e9",
   "metadata": {},
   "outputs": [
    {
     "name": "stdout",
     "output_type": "stream",
     "text": [
      "[2, 4, 6, 'hello', 10]\n"
     ]
    }
   ],
   "source": [
    "spam = [2,4,6,8,10]\n",
    "spam[3] = \"hello\"\n",
    "print(spam)"
   ]
  },
  {
   "cell_type": "markdown",
   "id": "f3ceb356",
   "metadata": {},
   "source": [
    "Let&#39;s pretend the spam includes the list [&#39;a&#39;, &#39;b&#39;, &#39;c&#39;, &#39;d&#39;] for the next three queries."
   ]
  },
  {
   "cell_type": "markdown",
   "id": "c265dce6",
   "metadata": {},
   "source": [
    "Q3.What is the value of spam[int(int(&#39;3&#39; * 2) / 11)]?"
   ]
  },
  {
   "cell_type": "code",
   "execution_count": 6,
   "id": "ff62d5ba",
   "metadata": {},
   "outputs": [
    {
     "name": "stdout",
     "output_type": "stream",
     "text": [
      "<class 'list'>\n",
      "['a', 'b', 'c', 'd']\n"
     ]
    }
   ],
   "source": [
    "spam = ['a','b','c','d']\n",
    "spam[int(int('3'*2)/11)]\n",
    "print(type(spam))\n",
    "print(spam)"
   ]
  },
  {
   "cell_type": "markdown",
   "id": "87c665c6",
   "metadata": {},
   "source": [
    "Q4.What is the value of spam[-1]?\n",
    "\n",
    "Ans->"
   ]
  },
  {
   "cell_type": "code",
   "execution_count": 7,
   "id": "d6f034d9",
   "metadata": {},
   "outputs": [
    {
     "data": {
      "text/plain": [
       "'d'"
      ]
     },
     "execution_count": 7,
     "metadata": {},
     "output_type": "execute_result"
    }
   ],
   "source": [
    "spam[-1]"
   ]
  },
  {
   "cell_type": "markdown",
   "id": "4d036143",
   "metadata": {},
   "source": [
    "Q5.What is the value of spam[:2]?\n",
    "\n",
    "Ans->"
   ]
  },
  {
   "cell_type": "code",
   "execution_count": 8,
   "id": "69152477",
   "metadata": {},
   "outputs": [
    {
     "data": {
      "text/plain": [
       "['a', 'b']"
      ]
     },
     "execution_count": 8,
     "metadata": {},
     "output_type": "execute_result"
    }
   ],
   "source": [
    "spam = ['a','b','c','d']\n",
    "spam[:2]"
   ]
  },
  {
   "cell_type": "markdown",
   "id": "47435187",
   "metadata": {},
   "source": [
    "Let&#39;s pretend bacon has the list [3.14, &#39;cat,&#39; 11, &#39;cat,&#39; True] for the next three questions."
   ]
  },
  {
   "cell_type": "markdown",
   "id": "b331b0f2",
   "metadata": {},
   "source": [
    "Q6.What is the value of bacon.index('cat')?\n",
    "\n",
    "Ans->"
   ]
  },
  {
   "cell_type": "code",
   "execution_count": 9,
   "id": "e88d2bf9",
   "metadata": {},
   "outputs": [
    {
     "data": {
      "text/plain": [
       "1"
      ]
     },
     "execution_count": 9,
     "metadata": {},
     "output_type": "execute_result"
    }
   ],
   "source": [
    "bacon = [3.14,'cat',11,'cat',True]\n",
    "bacon.index('cat')"
   ]
  },
  {
   "cell_type": "markdown",
   "id": "4f6ec261",
   "metadata": {},
   "source": [
    "Q7.How does bacon.append(99) change the look of the list value of bacon?\n",
    "\n",
    "Ans->"
   ]
  },
  {
   "cell_type": "code",
   "execution_count": 10,
   "id": "286fd7db",
   "metadata": {},
   "outputs": [
    {
     "data": {
      "text/plain": [
       "[3.14, 'cat', 11, 'cat', True, 99]"
      ]
     },
     "execution_count": 10,
     "metadata": {},
     "output_type": "execute_result"
    }
   ],
   "source": [
    "bacon = [3.14,'cat',11,'cat',True]\n",
    "bacon.append(99)\n",
    "bacon"
   ]
  },
  {
   "cell_type": "markdown",
   "id": "4f87409b",
   "metadata": {},
   "source": [
    "Q8.How does bacon.remove('cat') change the look of thelist in bacon?\n",
    "\n",
    "Ans->"
   ]
  },
  {
   "cell_type": "code",
   "execution_count": 11,
   "id": "69d52afa",
   "metadata": {},
   "outputs": [
    {
     "data": {
      "text/plain": [
       "[3.14, 11, 'cat', True]"
      ]
     },
     "execution_count": 11,
     "metadata": {},
     "output_type": "execute_result"
    }
   ],
   "source": [
    "bacon = [3.14,'cat',11,'cat',True]\n",
    "bacon.remove('cat')\n",
    "bacon"
   ]
  },
  {
   "cell_type": "markdown",
   "id": "4aa801a4",
   "metadata": {},
   "source": [
    "Q9.What are the list concateation and list replication operator ?\n",
    "\n",
    "Ans->"
   ]
  },
  {
   "cell_type": "markdown",
   "id": "d874d17c",
   "metadata": {},
   "source": [
    "1.List concatenation:\n",
    "List Concatenation i generally perform for the addition to list it used operator like '+'.\n",
    "\n",
    "2.List replication:\n",
    "List replication use the operator '*'"
   ]
  },
  {
   "cell_type": "markdown",
   "id": "3d39d784",
   "metadata": {},
   "source": [
    "Q10.What is the differnce between the list methods append() and insert()?\n",
    "\n",
    "Ans->"
   ]
  },
  {
   "cell_type": "markdown",
   "id": "f4a779fb",
   "metadata": {},
   "source": [
    "append():\n",
    "append method is we just add items in the list while in append method the list we can't specified the index value, the item we want to add will added in the last of the list.\n",
    "\n",
    "insert():\n",
    "In insert method it inser the element in the list at a particular location."
   ]
  },
  {
   "cell_type": "markdown",
   "id": "b63376b3",
   "metadata": {},
   "source": [
    "Q11.What are two method for removig items from a list?\n",
    "\n",
    "Ans->"
   ]
  },
  {
   "cell_type": "markdown",
   "id": "fd3fd53f",
   "metadata": {},
   "source": [
    "Method for removing element from the list are :\n",
    "\n",
    "using remove() method\n",
    "\n",
    "using pop() method\n",
    "\n",
    "using del() method"
   ]
  },
  {
   "cell_type": "markdown",
   "id": "69457711",
   "metadata": {},
   "source": [
    "Q12.Describe how list values and string values are identical.\n",
    "\n",
    "Ans->"
   ]
  },
  {
   "cell_type": "markdown",
   "id": "d305e44e",
   "metadata": {},
   "source": [
    "In this we have to seen that the when their is the item in the list and the data type of the item is string and if we compare each element of the list it can directal show the identical nature if it will."
   ]
  },
  {
   "cell_type": "code",
   "execution_count": 13,
   "id": "6460d4b3",
   "metadata": {},
   "outputs": [],
   "source": [
    "def check(lst):\n",
    "    \n",
    "    ele = lst[0]\n",
    "    chk = True\n",
    "    \n",
    "    for item in lst:\n",
    "        if ele != item:\n",
    "            chk = False\n",
    "            break\n",
    "            \n",
    "    if chk==True :\n",
    "        print(\"Equal\")\n",
    "    else:\n",
    "        print(\"Not equal\")"
   ]
  },
  {
   "cell_type": "code",
   "execution_count": 14,
   "id": "dc369163",
   "metadata": {},
   "outputs": [
    {
     "name": "stdout",
     "output_type": "stream",
     "text": [
      "Equal\n"
     ]
    }
   ],
   "source": [
    "lst = [\"aswini\",\"aswini\"]\n",
    "check(lst)"
   ]
  },
  {
   "cell_type": "markdown",
   "id": "559d41b4",
   "metadata": {},
   "source": [
    "Q13.What&#39;s the difference between tuples and lists?\n",
    "\n",
    "Ans->"
   ]
  },
  {
   "cell_type": "markdown",
   "id": "ee2ede21",
   "metadata": {},
   "source": [
    "In the tuples and lists is that:\n",
    "The tuples are immutable objects the lists are mutable. This means that tuples cannot be changed while the lists can be modified. Tuples are more memory efficient than the list"
   ]
  },
  {
   "cell_type": "markdown",
   "id": "eef0b881",
   "metadata": {},
   "source": [
    "14. How do you type a tuple value that only contains the integer 42?\n",
    "\n",
    "Ans->"
   ]
  },
  {
   "cell_type": "markdown",
   "id": "8db85bcc",
   "metadata": {},
   "source": [
    "Q15.How do you get a list value&#39;s tuple form? How do you get a tuple value&#39;s list form?"
   ]
  },
  {
   "cell_type": "markdown",
   "id": "56ff1f7b",
   "metadata": {},
   "source": [
    "List value tuple form \n",
    "While zip() function we can create a list of tuple form in the list\n",
    "\n",
    "Tuple value in list form : \n"
   ]
  },
  {
   "cell_type": "markdown",
   "id": "077713c9",
   "metadata": {},
   "source": [
    "Q16.Variables that &quot;contain&quot; list values are not necessarily lists themselves. Instead, what do they\n",
    "contain?"
   ]
  },
  {
   "cell_type": "markdown",
   "id": "29221449",
   "metadata": {},
   "source": [
    "Q17.How do you distinguish between copy.copy() and copy.deepcopy()?\n",
    "\n",
    "Ans->"
   ]
  },
  {
   "cell_type": "markdown",
   "id": "df053fad",
   "metadata": {},
   "source": [
    "copy() create reference to original object. If you change copied object - you change the original object. . deepcopy() creates new object and does real copying of original object to new one. Changing new deepcopied object doesn't affect original object"
   ]
  },
  {
   "cell_type": "code",
   "execution_count": null,
   "id": "46efedaa",
   "metadata": {},
   "outputs": [],
   "source": []
  }
 ],
 "metadata": {
  "kernelspec": {
   "display_name": "Python 3 (ipykernel)",
   "language": "python",
   "name": "python3"
  },
  "language_info": {
   "codemirror_mode": {
    "name": "ipython",
    "version": 3
   },
   "file_extension": ".py",
   "mimetype": "text/x-python",
   "name": "python",
   "nbconvert_exporter": "python",
   "pygments_lexer": "ipython3",
   "version": "3.9.12"
  }
 },
 "nbformat": 4,
 "nbformat_minor": 5
}
