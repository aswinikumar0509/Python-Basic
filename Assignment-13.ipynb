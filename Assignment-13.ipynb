{
 "cells": [
  {
   "cell_type": "markdown",
   "id": "9fd00b31",
   "metadata": {},
   "source": [
    "1.What advantages do Excel spreadsheets have over CSV spreadsheets?\n",
    "\n",
    "Ans->"
   ]
  },
  {
   "cell_type": "markdown",
   "id": "f5c29fdd",
   "metadata": {},
   "source": [
    "Excel is more superior when compared with CSV file format thus , CSV consumes less amount of the file size when the user is importing the the data and store it as is.\n",
    "\n",
    "Excel also the user add the feature in it."
   ]
  },
  {
   "cell_type": "markdown",
   "id": "152c9659",
   "metadata": {},
   "source": [
    "2.What do you pass to csv.reader() and csv.writer() to create reader and writer objects?\n",
    "\n",
    "Ans->"
   ]
  },
  {
   "cell_type": "markdown",
   "id": "bd482c71",
   "metadata": {},
   "source": [
    "The csv.writer() functiom return a write object that convert the user data into a delimited string. This string can later be used to write into CSV files using the writerow() function."
   ]
  },
  {
   "cell_type": "markdown",
   "id": "0a116497",
   "metadata": {},
   "source": [
    "3.What modes do File objects for reader and writer objects need to be opened in?\n",
    "\n",
    "Ans->"
   ]
  },
  {
   "cell_type": "markdown",
   "id": "0732d847",
   "metadata": {},
   "source": [
    "In order to open a file for reading or writing purpose , we must use the built-in open() function. the open() function use two argunment .\n",
    "First is the name of the file and second is for what we want to open it."
   ]
  },
  {
   "cell_type": "markdown",
   "id": "1b7bb95d",
   "metadata": {},
   "source": [
    "4.What method takes a list argument and writes it to a CSV file?\n",
    "\n",
    "Ans->"
   ]
  },
  {
   "cell_type": "markdown",
   "id": "74492e9b",
   "metadata": {},
   "source": [
    "writerow() function take the list of the iterable as parameter and write each item as a comma seperated line of items in the file."
   ]
  },
  {
   "cell_type": "markdown",
   "id": "fb38dde5",
   "metadata": {},
   "source": [
    "5.What do the keyword arguments delimiter and line terminator do?\n",
    "\n",
    "Ans->"
   ]
  },
  {
   "cell_type": "markdown",
   "id": "c8dcb95a",
   "metadata": {},
   "source": [
    "The delimeter and lineterminator keyword Argunment \n",
    "\n",
    "This changes the delimeter and line terminator character in the file.The delimeter is the character that appers between cells on a row. By default , the delimeter for a csv file is a comma . The line teminator is the character that comes at the end of a row"
   ]
  },
  {
   "cell_type": "markdown",
   "id": "368edc7f",
   "metadata": {},
   "source": [
    "6.What function takes a string of JSON data and returns a Python data structure?\n",
    "\n",
    "Ans->"
   ]
  },
  {
   "cell_type": "markdown",
   "id": "5d980cf3",
   "metadata": {},
   "source": [
    "loads() method return Python data structure of JSON string or data."
   ]
  },
  {
   "cell_type": "markdown",
   "id": "8a4e20b2",
   "metadata": {},
   "source": [
    "7.What function takes a Python data structure and returns a string of JSON data?\n",
    "\n",
    "Ans->"
   ]
  },
  {
   "cell_type": "markdown",
   "id": "0b107bf6",
   "metadata": {},
   "source": [
    "loads() method return Python data structure of JSON string or data."
   ]
  },
  {
   "cell_type": "code",
   "execution_count": null,
   "id": "c1b02da7",
   "metadata": {},
   "outputs": [],
   "source": []
  }
 ],
 "metadata": {
  "kernelspec": {
   "display_name": "Python 3 (ipykernel)",
   "language": "python",
   "name": "python3"
  },
  "language_info": {
   "codemirror_mode": {
    "name": "ipython",
    "version": 3
   },
   "file_extension": ".py",
   "mimetype": "text/x-python",
   "name": "python",
   "nbconvert_exporter": "python",
   "pygments_lexer": "ipython3",
   "version": "3.9.12"
  }
 },
 "nbformat": 4,
 "nbformat_minor": 5
}
