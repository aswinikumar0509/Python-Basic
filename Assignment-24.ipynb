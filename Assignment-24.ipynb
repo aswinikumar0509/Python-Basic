{
 "cells": [
  {
   "cell_type": "markdown",
   "id": "fc3181f0",
   "metadata": {},
   "source": [
    "1.What is the relationship between def statements and lambda expressions ?\n",
    "\n",
    "Ans->"
   ]
  },
  {
   "cell_type": "markdown",
   "id": "894f2453",
   "metadata": {},
   "source": [
    "The differnece between def statment and lambda expression are:\n",
    "\n",
    "1.def statement :\n",
    "The def keyword marks the start of the function header. A function name to uniquely identify the function.Function naming followthe same rules of writting identifiers in python\n",
    "\n",
    "2.Lambda Expression:\n",
    "Lambdas are one line method without a name or we can say anonymous Func They work partically the same as any other method in python lambdas differ from normal python methods because they can have only one expression , can't containany statement and their return type is function object.\n",
    "\n"
   ]
  },
  {
   "cell_type": "markdown",
   "id": "e9577f55",
   "metadata": {},
   "source": [
    "2.What is the benifit of lambda?\n",
    "\n",
    "Ans->"
   ]
  },
  {
   "cell_type": "markdown",
   "id": "82799ec2",
   "metadata": {},
   "source": [
    "Fewer Lines of code Lambda function are inline function and thus execute comparatively faster Many times lambda function make code much more readable by avoiding the logical jump caused by function calls."
   ]
  },
  {
   "cell_type": "markdown",
   "id": "043bcbc5",
   "metadata": {},
   "source": [
    "3.Compare and contrast map, filter, and reduce.\n",
    "\n",
    "Ans->"
   ]
  },
  {
   "cell_type": "markdown",
   "id": "0e33a76c",
   "metadata": {},
   "source": [
    "1.Map applies as a transformation to an element. The map() function iterate through all items in the given iterable and execute the function we passed as an argunmenrt on each of them \n",
    "\n",
    "Syntax:map(function,iterable(s))\n",
    "\n",
    "2.Filter accumulates only element matching a condition .filter () forms a new list that contain only element that satisfy a certain condition,\n",
    "i.e the function we passed return the true syntax : filter(function , iterable(s))\n",
    "\n",
    "3.reduce accumulate all element to a single value , by using immutable values reduce() works by calling the function we passed for the first two items in the sequence .\n",
    "The result returned by the function is used in another call to function alongside with the next (third in case),element .\n",
    "\n",
    "Syntyax : reduce(function,sequence[initial])"
   ]
  },
  {
   "cell_type": "code",
   "execution_count": 2,
   "id": "4c1d6580",
   "metadata": {},
   "outputs": [
    {
     "name": "stdout",
     "output_type": "stream",
     "text": [
      "True\n",
      "False\n",
      "False\n",
      "False\n",
      "False\n"
     ]
    }
   ],
   "source": [
    "animal = [\"Anteater\",\"Dog\",\"Elephant\",\"Giraffe\",\"Cat\"]\n",
    "map_object = map(lambda s : s[0] == \"A\" , animal)\n",
    "\n",
    "for i in map_object:\n",
    "    print(i)"
   ]
  },
  {
   "cell_type": "code",
   "execution_count": 3,
   "id": "ce7afc10",
   "metadata": {},
   "outputs": [
    {
     "name": "stdout",
     "output_type": "stream",
     "text": [
      "Anteater\n"
     ]
    }
   ],
   "source": [
    "animal = [\"Anteater\",\"Dog\",\"Elephant\",\"Giraffe\",\"Cat\"]\n",
    "filter_object = filter(lambda s : s[0] == \"A\" , animal)\n",
    "\n",
    "for i in filter_object:\n",
    "    print(i)"
   ]
  },
  {
   "cell_type": "code",
   "execution_count": 5,
   "id": "a3ebe534",
   "metadata": {},
   "outputs": [
    {
     "name": "stdout",
     "output_type": "stream",
     "text": [
      "18\n",
      "With an initial value: 28\n"
     ]
    }
   ],
   "source": [
    "from functools import reduce\n",
    "\n",
    "list = [4, 3, 8, 3]\n",
    "print(reduce(lambda x, y: x + y, list))\n",
    "print(\"With an initial value: \" + str(reduce(lambda x, y: x + y, list, 10)))\n"
   ]
  },
  {
   "cell_type": "markdown",
   "id": "56cd6139",
   "metadata": {},
   "source": [
    "4.What are function annotations, and how are they used?\n",
    "\n",
    "Ans->"
   ]
  },
  {
   "cell_type": "markdown",
   "id": "4fd3d788",
   "metadata": {},
   "source": [
    " Function annotation is the standard way to access the metadata with the arguments and the return value of the function. These are nothing but some random and optional Python expressions that get allied to different parts of the function. They get evaluated only during the compile-time and have no significance during the run-time of the code. They do not have any significance or meaning associated with them until accessed by some third-party libraries. They are used to type check the functions by declaring the type of the parameters and the return value for the functions. The string-based annotations help us to improve the help messages.\n",
    " \n",
    " Syntax :\n",
    "\n",
    "def func(a: 'int') -> 'int':\n",
    "\n",
    "pass\n",
    "\n",
    "Annotations for simple parameters:\n",
    "\n",
    "def func(x: 'float'=10.8, y: 'argument2'):\n",
    "\n",
    "In the above code the argument, ‘x’ of the function func, has been annotated to float data type and the argument ‘y’ has a string-based annotation. The argument can also be assigned to a default value using a ‘=’ symbol followed by the default value. These default values are optional to the code.\n",
    "Annotations for return values:\n",
    "\n",
    "def func(a: expression) -> 'int':\n",
    "\n",
    "The annotations for the return value is written after the ‘->’ symbol."
   ]
  },
  {
   "cell_type": "code",
   "execution_count": 6,
   "id": "e7771c28",
   "metadata": {},
   "outputs": [
    {
     "name": "stdout",
     "output_type": "stream",
     "text": [
      "{'n': 'float', 'b': 'int', 'return': 'result'}\n"
     ]
    }
   ],
   "source": [
    "def fib(n:'float', b:'int')-> 'result': \n",
    "    pass\n",
    "print(fib.__annotations__)"
   ]
  },
  {
   "cell_type": "markdown",
   "id": "a227e833",
   "metadata": {},
   "source": [
    "5.What are recursive functions, and how are they used?\n",
    "\n",
    "Ans->"
   ]
  },
  {
   "cell_type": "markdown",
   "id": "e79f1d8f",
   "metadata": {},
   "source": [
    "A recursive function is a function that calls itself during its execution. This means that the function will continue to call itself and repeat its behavior until some condition is met to return a result"
   ]
  },
  {
   "cell_type": "code",
   "execution_count": 8,
   "id": "d0483d14",
   "metadata": {},
   "outputs": [
    {
     "data": {
      "text/plain": [
       "6"
      ]
     },
     "execution_count": 8,
     "metadata": {},
     "output_type": "execute_result"
    }
   ],
   "source": [
    "def fact(x):\n",
    "    if x == 1 :\n",
    "        return 1\n",
    "    else :\n",
    "        return x * fact(x-1) # recurtion\n",
    "    \n",
    "fact(3)\n"
   ]
  },
  {
   "cell_type": "markdown",
   "id": "0d931a78",
   "metadata": {},
   "source": [
    "6.. What are some general design guidelines for coding functions?\n",
    "\n",
    "Ans->"
   ]
  },
  {
   "cell_type": "markdown",
   "id": "3c50b201",
   "metadata": {},
   "source": [
    "1.Use 4-space indentation and no tabs.\n",
    "\n",
    "2.Use docstrings\n",
    "\n",
    "3.Wrap linethat they don’t exceed 79 characters\n",
    "\n",
    "4.Use of regular and updated comments are valuable to both the coders and users\n",
    "\n",
    "5.Use of trailing commas : in case of tuple -> ('good',)\n",
    "    \n",
    "6.Use Python’s default UTF-8 or ASCII encodings and not any fancy encodings\n",
    "\n",
    "7.Naming Conventions 8.Characters that should not be used for identifiers : ‘l’ (lowercase letter el), ‘O’ (uppercase letter oh), ‘I’ (uppercase letter eye) as single character variable names as these are similar to the numerals one and zero.\n",
    "    \n",
    "8.Don’t use non-ASCII characters in identifiers\n",
    "\n",
    "9.Name your classes and functions consistently\n",
    "\n",
    "10.While naming of function of methods always use self for the first argument"
   ]
  },
  {
   "cell_type": "markdown",
   "id": "88b59205",
   "metadata": {},
   "source": [
    "7.Name three or more ways that functions can communicate results to a caller.\n",
    "\n",
    "Ans->"
   ]
  },
  {
   "cell_type": "markdown",
   "id": "78c4e4dc",
   "metadata": {},
   "source": [
    "1.Function can return single value\n",
    "\n",
    "2.Can return multiple values, tuple\n",
    "\n",
    "3.can return list,dictionary\n",
    "\n",
    "4.can return function object\n",
    "\n",
    "5.can return class object\n"
   ]
  },
  {
   "cell_type": "code",
   "execution_count": null,
   "id": "a8c76eef",
   "metadata": {},
   "outputs": [],
   "source": []
  }
 ],
 "metadata": {
  "kernelspec": {
   "display_name": "Python 3 (ipykernel)",
   "language": "python",
   "name": "python3"
  },
  "language_info": {
   "codemirror_mode": {
    "name": "ipython",
    "version": 3
   },
   "file_extension": ".py",
   "mimetype": "text/x-python",
   "name": "python",
   "nbconvert_exporter": "python",
   "pygments_lexer": "ipython3",
   "version": "3.9.12"
  }
 },
 "nbformat": 4,
 "nbformat_minor": 5
}
