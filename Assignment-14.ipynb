{
 "cells": [
  {
   "cell_type": "markdown",
   "id": "c3e1b26d",
   "metadata": {},
   "source": [
    "1.What does RGBA stand for?\n",
    "\n",
    "Ans->"
   ]
  },
  {
   "cell_type": "markdown",
   "id": "f0e36a95",
   "metadata": {},
   "source": [
    "RGBA stand for Red-Green-Blue-Alpha , the RGB is color model is extended in this specification to include \"alpha\" to allow specification of the opacity of a color"
   ]
  },
  {
   "cell_type": "markdown",
   "id": "11f4c43c",
   "metadata": {},
   "source": [
    "2.From the Pillow module, how do you get the RGBA value of any images?\n",
    "\n",
    "Ans->"
   ]
  },
  {
   "cell_type": "markdown",
   "id": "57d47236",
   "metadata": {},
   "source": [
    "1.Import the Image module from the pillow library from PIL import Image.\n",
    "\n",
    "2.Open any image and get the RAGBAG values img = Image.open('image.png')rgba = img.convert(\"RGBA\")\n",
    "\n",
    "3.Change the color. Data will be an Imaging Core object containg thoushand of tuples of RGBA values.\n",
    "\n",
    "4.Stored the change image"
   ]
  },
  {
   "cell_type": "markdown",
   "id": "209c865f",
   "metadata": {},
   "source": [
    "3.What is a box tuple, and how does it work?\n",
    "\n",
    "Ans->"
   ]
  },
  {
   "cell_type": "markdown",
   "id": "bb3d5910",
   "metadata": {},
   "source": [
    "Many of pillow's function and the method take the box tuple argunment . This meand=s Pillows is expecting a tuple of four integer coordinate that represent a rectngular regin in an image .\n",
    "The four integer are , in order , as flow .\n",
    "\n",
    "Left the X-coordinate of the leftmost edge of tyhe box"
   ]
  },
  {
   "cell_type": "markdown",
   "id": "da72eab1",
   "metadata": {},
   "source": [
    "4.Use your image and load in notebook then, How can you find out the width and height of an Image object?\n",
    "\n",
    "Ans->"
   ]
  },
  {
   "cell_type": "markdown",
   "id": "7488abdd",
   "metadata": {},
   "source": [
    "In order to find the height and width of an image, there are two approaches. The first approach is by using the PIL(Pillow) library and the second approach is by using the Open-CV library.\n",
    "\n",
    "PIL is the Python Imaging Library is an important module which is used for image processing. It supports many formats of images such as “jpeg”, “png”, “ppm”, “tiff”, “bmp”, “gif”.  It provides many image editing capabilities. The Image module provides a class with the same name which is used to represent a PIL image. \n",
    "\n",
    "PIL.Image.open() is used to open the image and then .width and .height property of Image are used to get the height and width of the image. The same results can be obtained by using .size property.\n"
   ]
  },
  {
   "cell_type": "markdown",
   "id": "3b63ec10",
   "metadata": {},
   "source": [
    "5.What method would you call to get Image object for a 100×100 image, excluding the lower-left quarter of it?\n",
    "\n",
    "Ans->"
   ]
  },
  {
   "cell_type": "markdown",
   "id": "7efdffdd",
   "metadata": {},
   "source": [
    "Removing a part of an image refer to the process of destroing image data in certain regins of an image .\n",
    "\n",
    "Where the removal can be either dynamic or hard coded .\n",
    "In most removal process the dimessions of the image stay the same in the resultant image"
   ]
  },
  {
   "cell_type": "markdown",
   "id": "1abbd089",
   "metadata": {},
   "source": [
    "6.After making changes to an Image object, how could you save it as an image file?\n",
    "\n",
    "Ans->"
   ]
  },
  {
   "cell_type": "markdown",
   "id": "0396ab15",
   "metadata": {},
   "source": [
    "PIL is the python Imaging Library which provide the python interpreter with image editing capabilities .\n",
    "The image modules provide a class with the same name which is used to represent a PIL image .The module also provide a number of factor functions , including function to load image from the files and also create new image.\n",
    "\n",
    "Image.save() saves this image under the given filename . If no format is specified , the format to use is determined from the filename extension , if possible."
   ]
  },
  {
   "cell_type": "markdown",
   "id": "948b37b9",
   "metadata": {},
   "source": [
    "7.What module contains Pillow’s shape-drawing code?\n",
    "\n",
    "Ans->"
   ]
  },
  {
   "cell_type": "markdown",
   "id": "3a655a12",
   "metadata": {},
   "source": [
    "The 'ImageDraw' module provides simple 2D graphics support for Image Object. Generally, we use this module to create new images, annotate or retouch existing images and to generate graphics on the fly for web use. The graphics commands support the drawing of shapes and annotation of text."
   ]
  },
  {
   "cell_type": "markdown",
   "id": "c9581877",
   "metadata": {},
   "source": [
    "8.Image objects do not have drawing methods. What kind of object does? How do you get this kind of object?\n",
    "\n",
    "Ans->"
   ]
  },
  {
   "cell_type": "markdown",
   "id": "933aef4a",
   "metadata": {},
   "source": [
    "A Drawing object describes visible content, such as a shape, bitmap, video, or a line of text. Different types of drawings describe different types of content.\n",
    "\n",
    "GeometryDrawing – Draws a shape.\n",
    "\n",
    "ImageDrawing – Draws an image.\n",
    "\n",
    "GlyphRunDrawing – Draws text.\n",
    "\n",
    "VideoDrawing – Plays an audio or video file.\n",
    "\n",
    "DrawingGroup – Draws other drawings. Use a drawing group to combine other drawings into a single composite drawing.\n"
   ]
  },
  {
   "cell_type": "code",
   "execution_count": null,
   "id": "cbeb5ed6",
   "metadata": {},
   "outputs": [],
   "source": []
  }
 ],
 "metadata": {
  "kernelspec": {
   "display_name": "Python 3 (ipykernel)",
   "language": "python",
   "name": "python3"
  },
  "language_info": {
   "codemirror_mode": {
    "name": "ipython",
    "version": 3
   },
   "file_extension": ".py",
   "mimetype": "text/x-python",
   "name": "python",
   "nbconvert_exporter": "python",
   "pygments_lexer": "ipython3",
   "version": "3.9.12"
  }
 },
 "nbformat": 4,
 "nbformat_minor": 5
}
