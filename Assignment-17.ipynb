{
 "cells": [
  {
   "cell_type": "markdown",
   "id": "89e93e66",
   "metadata": {},
   "source": [
    "1. Assign the value 7 to the variable guess_me. Then, write the conditional tests (if, else, and elif) to print the string 'too low' if guess_me is less than 7, 'too high' if greater than 7, and 'just right' if equal to 7.\n",
    "\n",
    "Ans->"
   ]
  },
  {
   "cell_type": "code",
   "execution_count": 1,
   "id": "c33b6c29",
   "metadata": {},
   "outputs": [
    {
     "name": "stdout",
     "output_type": "stream",
     "text": [
      "Enter the value8\n",
      "Too High\n"
     ]
    }
   ],
   "source": [
    "guess_me = int(input(\"Enter the value\"))\n",
    "if guess_me ==7:\n",
    "    print('just right')\n",
    "elif guess_me > 7:\n",
    "    print('Too High')\n",
    "else:\n",
    "    print(\"Too Low\")\n"
   ]
  },
  {
   "cell_type": "markdown",
   "id": "be21e47a",
   "metadata": {},
   "source": [
    "2.Assign the value 7 to the variable guess_me and the value 1 to the variable start. Write a while loop that compares start with guess_me. Print too low if start is less than guess me. If start equals guess_me, print 'found it!' and exit the loop. If start is greater than guess_me, print 'oops' and exit the loop. Increment start at the end of the loop\n",
    "\n",
    "Ans->"
   ]
  },
  {
   "cell_type": "code",
   "execution_count": 2,
   "id": "ec9f28c3",
   "metadata": {},
   "outputs": [
    {
     "name": "stdout",
     "output_type": "stream",
     "text": [
      "Too Low\n",
      "Too Low\n",
      "Too Low\n",
      "Too Low\n",
      "Too Low\n",
      "Too Low\n",
      "found it \n",
      "oops\n"
     ]
    }
   ],
   "source": [
    "guess_me = 7\n",
    "start = 1 \n",
    "\n",
    "while True:\n",
    "    if start < guess_me:\n",
    "        print(\"Too Low\")\n",
    "    elif start == guess_me:\n",
    "        print(\"found it \")\n",
    "    else:\n",
    "        print(\"oops\")\n",
    "        break\n",
    "    start +=1"
   ]
  },
  {
   "cell_type": "markdown",
   "id": "ac377d83",
   "metadata": {},
   "source": [
    "3.Print the following values of the list [3, 2, 1, 0] using a for loop.\n",
    "\n",
    "Ans->"
   ]
  },
  {
   "cell_type": "code",
   "execution_count": 3,
   "id": "f34113cd",
   "metadata": {},
   "outputs": [
    {
     "name": "stdout",
     "output_type": "stream",
     "text": [
      "3\n",
      "2\n",
      "1\n",
      "0\n"
     ]
    }
   ],
   "source": [
    "list = [3,2,1,0]\n",
    "for i in list:\n",
    "    print(i)"
   ]
  },
  {
   "cell_type": "markdown",
   "id": "1acb8c70",
   "metadata": {},
   "source": [
    "4.Use a list comprehension to make a list of the even numbers in range(10)\n",
    "\n",
    "Ans->"
   ]
  },
  {
   "cell_type": "code",
   "execution_count": 4,
   "id": "1209d295",
   "metadata": {},
   "outputs": [
    {
     "data": {
      "text/plain": [
       "[0, 2, 4, 6, 8]"
      ]
     },
     "execution_count": 4,
     "metadata": {},
     "output_type": "execute_result"
    }
   ],
   "source": [
    "even = [item for item in range(10) if item%2==0]\n",
    "even"
   ]
  },
  {
   "cell_type": "markdown",
   "id": "186c9191",
   "metadata": {},
   "source": [
    "5.Use a dictionary comprehension to create the dictionary squares. Use range(10) to return the keys, and use the square of each key as its value.\n",
    "\n",
    "Ans->"
   ]
  },
  {
   "cell_type": "code",
   "execution_count": 6,
   "id": "f5655042",
   "metadata": {},
   "outputs": [
    {
     "data": {
      "text/plain": [
       "{0: 0, 1: 1, 2: 4, 3: 9, 4: 16, 5: 25, 6: 36, 7: 49, 8: 64, 9: 81}"
      ]
     },
     "execution_count": 6,
     "metadata": {},
     "output_type": "execute_result"
    }
   ],
   "source": [
    "square =  {num : num * num for num in range(10)}\n",
    "square"
   ]
  },
  {
   "cell_type": "markdown",
   "id": "284baaa7",
   "metadata": {},
   "source": [
    "6.Construct the set odd from the odd number in the range using a set comprehesion(10)\n",
    "\n",
    "Ans->"
   ]
  },
  {
   "cell_type": "code",
   "execution_count": 7,
   "id": "60c61327",
   "metadata": {},
   "outputs": [
    {
     "data": {
      "text/plain": [
       "{1, 3, 5, 7, 9}"
      ]
     },
     "execution_count": 7,
     "metadata": {},
     "output_type": "execute_result"
    }
   ],
   "source": [
    "odd = {item for item in range(10) if item%2==1}\n",
    "odd"
   ]
  },
  {
   "cell_type": "markdown",
   "id": "693492e2",
   "metadata": {},
   "source": [
    "7.Use a generator compression to return the string 'Got' and a number for the number in the range(10). Itrate through this by using a for loop.\n",
    "\n",
    "Ans->"
   ]
  },
  {
   "cell_type": "code",
   "execution_count": 8,
   "id": "0b4a36d8",
   "metadata": {},
   "outputs": [
    {
     "name": "stdout",
     "output_type": "stream",
     "text": [
      "Got0\n",
      "Got1\n",
      "Got2\n",
      "Got3\n",
      "Got4\n",
      "Got5\n",
      "Got6\n",
      "Got7\n",
      "Got8\n",
      "Got9\n"
     ]
    }
   ],
   "source": [
    "string_generator = ('Got' + str(num) for num in range(10))\n",
    "for item in string_generator:\n",
    "    print(item)"
   ]
  },
  {
   "cell_type": "markdown",
   "id": "947dff64",
   "metadata": {},
   "source": [
    "8.Define the function called the good that returns the list \n",
    "\n",
    "['Harry','Ron' , 'Hermione']\n",
    "\n",
    "Ans->"
   ]
  },
  {
   "cell_type": "code",
   "execution_count": 10,
   "id": "72c93c20",
   "metadata": {},
   "outputs": [
    {
     "data": {
      "text/plain": [
       "['Harry', 'Ron', 'Hermione']"
      ]
     },
     "execution_count": 10,
     "metadata": {},
     "output_type": "execute_result"
    }
   ],
   "source": [
    "def returnlist():\n",
    "    return ['Harry','Ron','Hermione']\n",
    "returnlist()"
   ]
  },
  {
   "cell_type": "markdown",
   "id": "c06a79f9",
   "metadata": {},
   "source": [
    "9.Define a generator function called get_odds that return the odd numbers from the range(10).Use a for loop to find and print the thrid value returned.\n",
    "\n",
    "Ans->"
   ]
  },
  {
   "cell_type": "code",
   "execution_count": 11,
   "id": "aed0db55",
   "metadata": {},
   "outputs": [
    {
     "name": "stdout",
     "output_type": "stream",
     "text": [
      "The third odd number is  5\n"
     ]
    }
   ],
   "source": [
    "def get_odd():\n",
    "    for number in range(1,10,2):\n",
    "        yield number\n",
    "        \n",
    "count = 1\n",
    "for number in get_odd():\n",
    "    if count == 3:\n",
    "        print(\"The third odd number is \",number)\n",
    "        break\n",
    "    count +=1"
   ]
  },
  {
   "cell_type": "markdown",
   "id": "ed2c498e",
   "metadata": {},
   "source": [
    "10.Define an exception called OopsException. Raise this exception to see what happens. Then writethe code to catch this exception and print 'Caught an oops'\n",
    "\n",
    "Ans->"
   ]
  },
  {
   "cell_type": "code",
   "execution_count": 12,
   "id": "c64e9f81",
   "metadata": {},
   "outputs": [
    {
     "name": "stdout",
     "output_type": "stream",
     "text": [
      "Caught an opps\n"
     ]
    }
   ],
   "source": [
    "class oopsException(Exception):\n",
    "    pass\n",
    "\n",
    "def raiseException(num):\n",
    "    if num < 0:\n",
    "        raise oopsException(num)\n",
    "        \n",
    "try:\n",
    "    raiseException(-1)\n",
    "except oopsException as err:\n",
    "    print('Caught an opps')"
   ]
  },
  {
   "cell_type": "markdown",
   "id": "2e93941c",
   "metadata": {},
   "source": [
    "11.Use zip() to make a dictionary called movies that pairs these lists: titles = ['Creature of Habit', 'Crewel Fate'] and plots = ['A nun turns into a monster', 'A haunted yarn shop'].\n",
    "\n",
    "Ans->"
   ]
  },
  {
   "cell_type": "code",
   "execution_count": 13,
   "id": "dbaaa9d7",
   "metadata": {},
   "outputs": [
    {
     "name": "stdout",
     "output_type": "stream",
     "text": [
      "{'Creature of Habit': 'A num turns into a monster ', 'Crewel Fate': 'A haunted yarn shop'}\n"
     ]
    }
   ],
   "source": [
    "titles = ['Creature of Habit','Crewel Fate']\n",
    "plots = ['A num turns into a monster ' , 'A haunted yarn shop']\n",
    "movies = dict(zip(titles , plots))\n",
    "print(movies)"
   ]
  },
  {
   "cell_type": "code",
   "execution_count": null,
   "id": "f91a77b4",
   "metadata": {},
   "outputs": [],
   "source": []
  }
 ],
 "metadata": {
  "kernelspec": {
   "display_name": "Python 3 (ipykernel)",
   "language": "python",
   "name": "python3"
  },
  "language_info": {
   "codemirror_mode": {
    "name": "ipython",
    "version": 3
   },
   "file_extension": ".py",
   "mimetype": "text/x-python",
   "name": "python",
   "nbconvert_exporter": "python",
   "pygments_lexer": "ipython3",
   "version": "3.9.12"
  }
 },
 "nbformat": 4,
 "nbformat_minor": 5
}
