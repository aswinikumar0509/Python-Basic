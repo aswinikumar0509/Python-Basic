{
 "cells": [
  {
   "cell_type": "markdown",
   "id": "db6da8be",
   "metadata": {},
   "source": [
    "1.Create an assert statement that throws an AssertionError if the variable spam is a negative integer."
   ]
  },
  {
   "cell_type": "code",
   "execution_count": 3,
   "id": "dfe953e8",
   "metadata": {},
   "outputs": [
    {
     "ename": "AssertionError",
     "evalue": "",
     "output_type": "error",
     "traceback": [
      "\u001b[1;31m---------------------------------------------------------------------------\u001b[0m",
      "\u001b[1;31mAssertionError\u001b[0m                            Traceback (most recent call last)",
      "Input \u001b[1;32mIn [3]\u001b[0m, in \u001b[0;36m<cell line: 2>\u001b[1;34m()\u001b[0m\n\u001b[0;32m      1\u001b[0m spam \u001b[38;5;241m=\u001b[39m \u001b[38;5;241m-\u001b[39m\u001b[38;5;241m1\u001b[39m\n\u001b[1;32m----> 2\u001b[0m \u001b[38;5;28;01massert\u001b[39;00m(spam \u001b[38;5;241m>\u001b[39m\u001b[38;5;241m=\u001b[39m \u001b[38;5;241m10\u001b[39m)\n\u001b[0;32m      4\u001b[0m \u001b[38;5;28mprint\u001b[39m(\u001b[38;5;124m'\u001b[39m\u001b[38;5;124mThe spam variable is less than 10.\u001b[39m\u001b[38;5;124m'\u001b[39m)\n",
      "\u001b[1;31mAssertionError\u001b[0m: "
     ]
    }
   ],
   "source": [
    "spam = -1\n",
    "assert(spam >= 10)\n",
    "\n",
    "print('The spam variable is less than 10.')"
   ]
  },
  {
   "cell_type": "markdown",
   "id": "facc400d",
   "metadata": {},
   "source": [
    "2.Write an assert statement that triggers an AssertionError if the variables eggs and bacon contain\n",
    "strings that are the same as each other, even if their cases are different (that is, &#39;hello&#39; and &#39;hello&#39; are\n",
    "considered the same, and &#39;goodbye&#39; and &#39;GOODbye&#39; are also considered the same)."
   ]
  },
  {
   "cell_type": "code",
   "execution_count": 8,
   "id": "48e284ae",
   "metadata": {},
   "outputs": [
    {
     "ename": "AssertionError",
     "evalue": "",
     "output_type": "error",
     "traceback": [
      "\u001b[1;31m---------------------------------------------------------------------------\u001b[0m",
      "\u001b[1;31mAssertionError\u001b[0m                            Traceback (most recent call last)",
      "Input \u001b[1;32mIn [8]\u001b[0m, in \u001b[0;36m<cell line: 4>\u001b[1;34m()\u001b[0m\n\u001b[0;32m      1\u001b[0m eggs \u001b[38;5;241m=\u001b[39m \u001b[38;5;124m\"\u001b[39m\u001b[38;5;124mhello\u001b[39m\u001b[38;5;124m\"\u001b[39m\n\u001b[0;32m      2\u001b[0m bacon \u001b[38;5;241m=\u001b[39m \u001b[38;5;124m\"\u001b[39m\u001b[38;5;124mhello\u001b[39m\u001b[38;5;124m\"\u001b[39m\n\u001b[1;32m----> 4\u001b[0m \u001b[38;5;28;01massert\u001b[39;00m(eggs\u001b[38;5;241m.\u001b[39mlower()\u001b[38;5;241m!=\u001b[39mbacon\u001b[38;5;241m.\u001b[39mlower())\n\u001b[0;32m      5\u001b[0m \u001b[38;5;28mprint\u001b[39m(\u001b[38;5;124m\"\u001b[39m\u001b[38;5;124mThe eggs and bacon variable are same\u001b[39m\u001b[38;5;124m\"\u001b[39m)\n\u001b[0;32m      6\u001b[0m \u001b[38;5;28;01massert\u001b[39;00m(eggs\u001b[38;5;241m.\u001b[39mupper()\u001b[38;5;241m!=\u001b[39mbacon\u001b[38;5;241m.\u001b[39mupper())\n",
      "\u001b[1;31mAssertionError\u001b[0m: "
     ]
    }
   ],
   "source": [
    "eggs = \"hello\"\n",
    "bacon = \"hello\"\n",
    "\n",
    "assert(eggs.lower()!=bacon.lower())\n",
    "print(\"The eggs and bacon variable are same\")\n",
    "assert(eggs.upper()!=bacon.upper())\n",
    "print(\"The eggs and bacon variable are same\")"
   ]
  },
  {
   "cell_type": "markdown",
   "id": "831b1668",
   "metadata": {},
   "source": [
    "3.Write an assert statement that always triggers an AssertionError."
   ]
  },
  {
   "cell_type": "code",
   "execution_count": 9,
   "id": "ca3069ad",
   "metadata": {},
   "outputs": [
    {
     "ename": "AssertionError",
     "evalue": "",
     "output_type": "error",
     "traceback": [
      "\u001b[1;31m---------------------------------------------------------------------------\u001b[0m",
      "\u001b[1;31mAssertionError\u001b[0m                            Traceback (most recent call last)",
      "Input \u001b[1;32mIn [9]\u001b[0m, in \u001b[0;36m<cell line: 1>\u001b[1;34m()\u001b[0m\n\u001b[1;32m----> 1\u001b[0m \u001b[38;5;28;01massert\u001b[39;00m(\u001b[38;5;28;01mFalse\u001b[39;00m)\n\u001b[0;32m      2\u001b[0m \u001b[38;5;28mprint\u001b[39m(\u001b[38;5;124m\"\u001b[39m\u001b[38;5;124mAssertion Error\u001b[39m\u001b[38;5;124m\"\u001b[39m)\n",
      "\u001b[1;31mAssertionError\u001b[0m: "
     ]
    }
   ],
   "source": [
    "assert(False)\n",
    "print(\"Assertion Error\")"
   ]
  },
  {
   "cell_type": "markdown",
   "id": "d751c0eb",
   "metadata": {},
   "source": [
    "4.What are the two lines that your program must have in order to be able to call logging.debug()?"
   ]
  },
  {
   "cell_type": "markdown",
   "id": "a828c4d9",
   "metadata": {},
   "source": [
    "To be able to call logging.debug , we must have to call these two lines at the start of our program\n",
    "\n",
    "import logging\n",
    "\n",
    "logging.basicConfig(level = \"logging.debug,format=' %(asctime)s - %(levelname)s - %(message)s')"
   ]
  },
  {
   "cell_type": "markdown",
   "id": "93d66b34",
   "metadata": {},
   "source": [
    "5.What are the two lines that your program must have in order to have logging.debug() send a logging message to a ﬁle named programLog.txt?"
   ]
  },
  {
   "cell_type": "markdown",
   "id": "1df69f85",
   "metadata": {},
   "source": [
    "To be able to call logging.debug , we must have to call these two lines at the start of our program\n",
    "\n",
    "import logging\n",
    "\n",
    "logging.basicConfig(,filename = \"programLog.txt\" ,level = \"logging.debug,format=' %(asctime)s - %(levelname)s - %(message)s')"
   ]
  },
  {
   "cell_type": "markdown",
   "id": "4176f11c",
   "metadata": {},
   "source": [
    "6.What are the ﬁve logging levels?"
   ]
  },
  {
   "cell_type": "markdown",
   "id": "7d289cb9",
   "metadata": {},
   "source": [
    "1.Debug\n",
    "2.Info\n",
    "3.Warning\n",
    "4.Error\n",
    "5.Critical"
   ]
  },
  {
   "cell_type": "markdown",
   "id": "88133c27",
   "metadata": {},
   "source": [
    "7.What line of code can you add to disable all logging messages in your program?"
   ]
  },
  {
   "cell_type": "markdown",
   "id": "af43c01b",
   "metadata": {},
   "source": [
    "logging.disable(logging.Critical)"
   ]
  },
  {
   "cell_type": "markdown",
   "id": "2f3e6c98",
   "metadata": {},
   "source": [
    "8.Why is using logging messages better than using print() to display the same message? "
   ]
  },
  {
   "cell_type": "markdown",
   "id": "5454d83d",
   "metadata": {},
   "source": [
    "We can disable logging message without removing the logging function calls.\n",
    "\n",
    "We can selectively disable lower level logging message .\n",
    "We can create logging message .logging message provide a timestamp"
   ]
  },
  {
   "cell_type": "markdown",
   "id": "29a9e327",
   "metadata": {},
   "source": [
    "9.What are the differences between the Step, Over, and Out buttons in the Debug Control window?"
   ]
  },
  {
   "cell_type": "markdown",
   "id": "320cef62",
   "metadata": {},
   "source": [
    "The Step button will move the debugger into a function call. The Over button will quickly execute the function call without stepping into it. The Out button will quickly execute the rest of the code until it steps out of the function it currently is in."
   ]
  },
  {
   "cell_type": "markdown",
   "id": "d680ea71",
   "metadata": {},
   "source": [
    "10.After you click Go in the Debug Control window, when will the debugger stop?"
   ]
  },
  {
   "cell_type": "markdown",
   "id": "fa909da6",
   "metadata": {},
   "source": [
    " click Go, the debugger will stop when it has reached the end of the program or a line with a breakpoint."
   ]
  },
  {
   "cell_type": "markdown",
   "id": "88614137",
   "metadata": {},
   "source": [
    "11.What is a breakpoint?"
   ]
  },
  {
   "cell_type": "markdown",
   "id": "1d74eb05",
   "metadata": {},
   "source": [
    "Breakpoint is a setting on a line of code that causes the debugger to pause when the program execution reaches the line."
   ]
  },
  {
   "cell_type": "code",
   "execution_count": null,
   "id": "74edd280",
   "metadata": {},
   "outputs": [],
   "source": []
  }
 ],
 "metadata": {
  "kernelspec": {
   "display_name": "Python 3 (ipykernel)",
   "language": "python",
   "name": "python3"
  },
  "language_info": {
   "codemirror_mode": {
    "name": "ipython",
    "version": 3
   },
   "file_extension": ".py",
   "mimetype": "text/x-python",
   "name": "python",
   "nbconvert_exporter": "python",
   "pygments_lexer": "ipython3",
   "version": "3.9.12"
  }
 },
 "nbformat": 4,
 "nbformat_minor": 5
}
