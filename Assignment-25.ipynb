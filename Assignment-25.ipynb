{
 "cells": [
  {
   "cell_type": "markdown",
   "id": "465ac05c",
   "metadata": {},
   "source": [
    "1)What is the difference between enclosing a list comprehension in square brackets and parentheses?\n",
    "\n",
    "Ans ->"
   ]
  },
  {
   "cell_type": "markdown",
   "id": "21e417e0",
   "metadata": {},
   "source": [
    "The differnce between the list compression and list generator\n",
    "are:\n",
    "\n",
    "1.List Compression : In list it should in the square bracket while\n"
   ]
  },
  {
   "cell_type": "code",
   "execution_count": 1,
   "id": "3abd284e",
   "metadata": {},
   "outputs": [
    {
     "data": {
      "text/plain": [
       "[0, 1, 2, 3, 4, 5, 6, 7, 8, 9]"
      ]
     },
     "execution_count": 1,
     "metadata": {},
     "output_type": "execute_result"
    }
   ],
   "source": [
    "lst = [i for i in range(10)]\n",
    "lst"
   ]
  },
  {
   "cell_type": "code",
   "execution_count": 2,
   "id": "ea9e1576",
   "metadata": {},
   "outputs": [
    {
     "data": {
      "text/plain": [
       "<generator object <genexpr> at 0x000001EB6294B660>"
      ]
     },
     "execution_count": 2,
     "metadata": {},
     "output_type": "execute_result"
    }
   ],
   "source": [
    "lstParanthesis = (i for i in range(10))\n",
    "lstParanthesis"
   ]
  },
  {
   "cell_type": "markdown",
   "id": "836a7504",
   "metadata": {},
   "source": [
    "Q. What is the relationship between generators and iterators?"
   ]
  },
  {
   "cell_type": "markdown",
   "id": "0f9f1597",
   "metadata": {},
   "source": [
    "1.An iterator is an object which contains a countable number of values and it is used to iterate over iterable objects like list, tuples etc Using an iterator- iter() keyword is used to create an iterator containing an iterable object. next() keyword is used to call the next element in the iterable object.\n",
    "\n",
    "2.Generator It is another way of creating iterators in a simple way where it uses the keyword “yield” instead of returning it in a defined function Generators are implemented using a function Here, the yield function returns the data without affecting or exiting the function. It will return a sequence of data in an iterable format where we need to iterate over the sequence to use the data as they won’t store the entire sequence in the memory By using next() function we can iterate the output of generator function"
   ]
  },
  {
   "cell_type": "markdown",
   "id": "8ba90261",
   "metadata": {},
   "source": [
    " What are the signs that a function is a generator function?"
   ]
  },
  {
   "cell_type": "markdown",
   "id": "0c8f8e56",
   "metadata": {},
   "source": [
    "Ans. If a function contains at least one yield statement (it may contain other yield or return statements), it becomes a generator function. Both yield and return will return some value from a function."
   ]
  },
  {
   "cell_type": "markdown",
   "id": "999ea3a3",
   "metadata": {},
   "source": [
    "Q. What is the purpose of a yield statement?"
   ]
  },
  {
   "cell_type": "markdown",
   "id": "68de1400",
   "metadata": {},
   "source": [
    "Ans. A yield statement looks much like a return statement, except that instead of stopping execution of the function and returning, yield instead provides a value to the code looping over the generator and pauses execution of the generator function"
   ]
  },
  {
   "cell_type": "markdown",
   "id": "2a71deb9",
   "metadata": {},
   "source": [
    "Q. What is the relationship between map calls and list comprehensions? Make a comparison and contrast between the two."
   ]
  },
  {
   "cell_type": "markdown",
   "id": "254bbe7f",
   "metadata": {},
   "source": [
    "Map function: Suppose we have a function and we want to compute this function for different values in a single line of code . This is where map() function plays its role. map() function returns a map object(which is an iterator) of the results after applying the given function to each item of a given iterable (list, tuple etc.)\n",
    "\n",
    "If we already have a function defined, it is often good to use map For example, map(sum, myLists) is more neat than [sum(x) for x in myLists]. You gain the elegance of not having to make up a dummy variable (e.g. sum(x) for x... or sum() for ... or sum(readableName) for readableName...) which you have to type twice, just to iterate.\n",
    "\n",
    "List Comprehension: List Comprehension is a substitute for the lambda function, map(), filter() and reduce()\n",
    "\n",
    "Comparision :\n",
    "\n",
    "List comprehension is more concise and easier to read as compared to map\n",
    "List comprehension allows filtering. In map, we have no such facility For example, to print all even numbers in range of 100, we can write [n for n in range(100) if n%2 == 0]. There is no alternate for it in map\n",
    "List comprehension are used when a list of results is required, where as map only returns a map object and does not return any list.\n",
    "\n",
    "List comprehension is faster than map when we need to evaluate expressions that are too long or complicated to express\n",
    "Map is faster in case of calling an already defined function (as no lambda is required)\n"
   ]
  },
  {
   "cell_type": "code",
   "execution_count": null,
   "id": "154ac3b9",
   "metadata": {},
   "outputs": [],
   "source": []
  }
 ],
 "metadata": {
  "kernelspec": {
   "display_name": "Python 3 (ipykernel)",
   "language": "python",
   "name": "python3"
  },
  "language_info": {
   "codemirror_mode": {
    "name": "ipython",
    "version": 3
   },
   "file_extension": ".py",
   "mimetype": "text/x-python",
   "name": "python",
   "nbconvert_exporter": "python",
   "pygments_lexer": "ipython3",
   "version": "3.9.12"
  }
 },
 "nbformat": 4,
 "nbformat_minor": 5
}
