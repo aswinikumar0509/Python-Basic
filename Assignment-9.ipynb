{
 "cells": [
  {
   "cell_type": "markdown",
   "id": "b802bed2",
   "metadata": {},
   "source": [
    "1.To what does a relative path refer?\n",
    "\n",
    "Ans->"
   ]
  },
  {
   "cell_type": "markdown",
   "id": "a857bc8d",
   "metadata": {},
   "source": [
    "A relative path refers to a location that is relative to a current directory. Relative paths make use of two special symbols, a dot (.) and a double-dot (..), which translate into the current directory and the parent directory. Double dots are used for moving up in the hierarchy."
   ]
  },
  {
   "cell_type": "markdown",
   "id": "7b8f9b27",
   "metadata": {},
   "source": [
    "2.What does an absolute path start with your operating system?\n",
    "\n",
    "Ans->"
   ]
  },
  {
   "cell_type": "markdown",
   "id": "bded4e60",
   "metadata": {},
   "source": [
    "An absolute path refers to the complete details needed to locate a file or folder, starting from the root element and ending with the other sub directories. Absolute paths are used in websites and operating systems for locating files and folder."
   ]
  },
  {
   "cell_type": "markdown",
   "id": "c0e4f653",
   "metadata": {},
   "source": [
    "3.What do the functions os.getcwd() and os.chdir() do?\n",
    "\n",
    "Ans->"
   ]
  },
  {
   "cell_type": "markdown",
   "id": "81f449f0",
   "metadata": {},
   "source": [
    "getcwd() : CWD stands for Current Working Directory. This function allows you to see what your current working directory is. chdir(\"path-to-dir\") : Short for CHange DIRectory, this function allows you to set the current working directory to a path of your choice."
   ]
  },
  {
   "cell_type": "markdown",
   "id": "050e8e8f",
   "metadata": {},
   "source": [
    "4.What are the . and .. folders?\n",
    "\n",
    "Ans->"
   ]
  },
  {
   "cell_type": "markdown",
   "id": "d4e1deb3",
   "metadata": {},
   "source": [
    "The . is the current directory, while .. signifies the parent directory."
   ]
  },
  {
   "cell_type": "markdown",
   "id": "b81be7ea",
   "metadata": {},
   "source": [
    "5.In C:\\bacon\\eggs\\spam.txt, which part is the dir name, and which part is the base name?\n",
    "\n",
    "Ans->"
   ]
  },
  {
   "cell_type": "markdown",
   "id": "e9e1a14a",
   "metadata": {},
   "source": [
    "bacon is the directory and spam.txt is the base name."
   ]
  },
  {
   "cell_type": "markdown",
   "id": "d5c7b18d",
   "metadata": {},
   "source": [
    "6.What are the three “mode” arguments that can be passed to the open() function?\n",
    "\n",
    "Ans->"
   ]
  },
  {
   "cell_type": "markdown",
   "id": "7d957452",
   "metadata": {},
   "source": [
    "r : Opens the file in read-only mode. ...\n",
    "\n",
    "rb : Opens the file as read-only in binary format and starts reading from the beginning of the file. ...\n",
    "\n",
    "r+ : Opens a file for reading and writing, placing the pointer at the beginning of the file."
   ]
  },
  {
   "cell_type": "markdown",
   "id": "2ad0947c",
   "metadata": {},
   "source": [
    "7.What happens if an existing file is opened in write mode?\n",
    "\n",
    "Ams->"
   ]
  },
  {
   "cell_type": "markdown",
   "id": "9a6daf65",
   "metadata": {},
   "source": [
    "To open a file in write mode, “w” is specified. When mode “w” is specified, it creates an empty file for output operations. If a file with the same name already exists, its contents are discarded and the file is treated as a new empty file."
   ]
  },
  {
   "cell_type": "markdown",
   "id": "2a5b9c4d",
   "metadata": {},
   "source": [
    "8.How do you tell the difference between read() and readlines()?\n",
    "\n",
    "Ans->"
   ]
  },
  {
   "cell_type": "markdown",
   "id": "8d1f0a16",
   "metadata": {},
   "source": [
    "The main difference is that read() will read the whole file at once and then print out the first characters that take up as many bytes as we specify in the parenthesis versus the readline() that will read and print out only the first characters that take up as many bytes as we specify in the parenthesis."
   ]
  },
  {
   "cell_type": "markdown",
   "id": "5c527902",
   "metadata": {},
   "source": [
    "9.What data structure does a shelf value resemble?\n",
    "\n",
    "Ans->"
   ]
  },
  {
   "cell_type": "markdown",
   "id": "4eedfa7f",
   "metadata": {},
   "source": [
    "A shelf value resembles a dictionary value; it has keys and values, along with keys() and values() methods that work similarly to the dictionary methods of the same names."
   ]
  },
  {
   "cell_type": "code",
   "execution_count": null,
   "id": "8783284b",
   "metadata": {},
   "outputs": [],
   "source": []
  }
 ],
 "metadata": {
  "kernelspec": {
   "display_name": "Python 3 (ipykernel)",
   "language": "python",
   "name": "python3"
  },
  "language_info": {
   "codemirror_mode": {
    "name": "ipython",
    "version": 3
   },
   "file_extension": ".py",
   "mimetype": "text/x-python",
   "name": "python",
   "nbconvert_exporter": "python",
   "pygments_lexer": "ipython3",
   "version": "3.9.12"
  }
 },
 "nbformat": 4,
 "nbformat_minor": 5
}
