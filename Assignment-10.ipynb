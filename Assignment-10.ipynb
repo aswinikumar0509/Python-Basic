{
 "cells": [
  {
   "cell_type": "markdown",
   "id": "298d1b76",
   "metadata": {},
   "source": [
    "1.How do you distinguish between shutil.copy() and shutil.copytree()?\n",
    "\n",
    "Ans->"
   ]
  },
  {
   "cell_type": "markdown",
   "id": "62b21702",
   "metadata": {},
   "source": [
    "While shutil. copy() will copy a single file, shutil. copytree() will copy an entire folder and every folder and file contained in it."
   ]
  },
  {
   "cell_type": "markdown",
   "id": "c2fe0971",
   "metadata": {},
   "source": [
    "2.What function is used to rename files?\n",
    "\n",
    "Ans->"
   ]
  },
  {
   "cell_type": "markdown",
   "id": "b7f40413",
   "metadata": {},
   "source": [
    "rename() method in Python is used to rename a file or directory."
   ]
  },
  {
   "cell_type": "markdown",
   "id": "60187222",
   "metadata": {},
   "source": [
    "3.What is the difference between the delete functions in the send2trash and shutil modules?\n",
    "\n",
    "Ans->"
   ]
  },
  {
   "cell_type": "markdown",
   "id": "6b5db46c",
   "metadata": {},
   "source": [
    "The send2trash functions will move a file or folder to the recycle bin, while shutil functions will permanently delete files and folders."
   ]
  },
  {
   "cell_type": "markdown",
   "id": "c58e6e87",
   "metadata": {},
   "source": [
    "4.ZipFile objects have a close() method just like File objects’ close() method. What ZipFile method is\n",
    "equivalent to File objects’ open() method?\n",
    "\n",
    "Ans->"
   ]
  },
  {
   "cell_type": "code",
   "execution_count": null,
   "id": "1741d294",
   "metadata": {},
   "outputs": [],
   "source": []
  },
  {
   "cell_type": "markdown",
   "id": "33f790d3",
   "metadata": {},
   "source": [
    "5.Create a programme that searches a folder tree for files with a certain file extension (such as .pdf\n",
    "or .jpg). Copy these files from whatever location they are in to a new folder.\n",
    "\n",
    "Ans->"
   ]
  },
  {
   "cell_type": "markdown",
   "id": "c80213bd",
   "metadata": {},
   "source": [
    "import os, shutil\n",
    "\n",
    "def selectiveCopy(folder, extensions, destFolder):\n",
    "\n",
    "\tfolder = os.path.abspath(folder)\n",
    "    \n",
    "\tdestFolder = os.path.abspath(destFolder)\n",
    "    \n",
    "\tprint('Looking in', folder, 'for files with extensions of', ', '.join(extensions))\n",
    "    \n",
    "\tfor foldername, subfolders, filenames in os.walk(folder):\n",
    "    \n",
    "\t\tfor filename in filenames:\n",
    "        \n",
    "\t\t\tname, extension = os.path.splitext(filename)\n",
    "            \n",
    "\t\t\tif extension in extensions:\n",
    "            \n",
    "\t\t\t\tfileAbsPath = foldername + os.path.sep + filename\n",
    "                \n",
    "\t\t\t\tprint('Coping', fileAbsPath, 'to', destFolder)\n",
    "                \n",
    "\t\t\t\tshutil.copy(fileAbsPath, destFolder)\n",
    "                \n",
    "\n",
    "extensions = ['.php', '.py']\n",
    "\n",
    "folder = 'randomFolder'\n",
    "\n",
    "destFolder = 'selectiveFolder'\n",
    "\n",
    "selectiveCopy(folder, extensions, destFolder)"
   ]
  },
  {
   "cell_type": "code",
   "execution_count": null,
   "id": "61b9d0db",
   "metadata": {},
   "outputs": [],
   "source": []
  }
 ],
 "metadata": {
  "kernelspec": {
   "display_name": "Python 3 (ipykernel)",
   "language": "python",
   "name": "python3"
  },
  "language_info": {
   "codemirror_mode": {
    "name": "ipython",
    "version": 3
   },
   "file_extension": ".py",
   "mimetype": "text/x-python",
   "name": "python",
   "nbconvert_exporter": "python",
   "pygments_lexer": "ipython3",
   "version": "3.9.12"
  }
 },
 "nbformat": 4,
 "nbformat_minor": 5
}
